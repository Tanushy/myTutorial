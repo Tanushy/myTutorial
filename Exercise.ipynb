{
 "cells": [
  {
   "cell_type": "code",
   "execution_count": 14,
   "id": "7d73d102",
   "metadata": {},
   "outputs": [],
   "source": [
    "import pandas as pd\n",
    "import numpy as np"
   ]
  },
  {
   "cell_type": "code",
   "execution_count": 48,
   "id": "1c829bc3",
   "metadata": {},
   "outputs": [
    {
     "data": {
      "text/html": [
       "<div>\n",
       "<style scoped>\n",
       "    .dataframe tbody tr th:only-of-type {\n",
       "        vertical-align: middle;\n",
       "    }\n",
       "\n",
       "    .dataframe tbody tr th {\n",
       "        vertical-align: top;\n",
       "    }\n",
       "\n",
       "    .dataframe thead th {\n",
       "        text-align: right;\n",
       "    }\n",
       "</style>\n",
       "<table border=\"1\" class=\"dataframe\">\n",
       "  <thead>\n",
       "    <tr style=\"text-align: right;\">\n",
       "      <th></th>\n",
       "      <th>Produkt</th>\n",
       "      <th>Symbol/ISIN</th>\n",
       "      <th>Anzahl</th>\n",
       "      <th>Schlußkurs</th>\n",
       "      <th>Wert</th>\n",
       "      <th>Wert in EUR</th>\n",
       "    </tr>\n",
       "  </thead>\n",
       "  <tbody>\n",
       "    <tr>\n",
       "      <th>0</th>\n",
       "      <td>CASH &amp; CASH FUND &amp; FTX CASH (EUR)</td>\n",
       "      <td>NaN</td>\n",
       "      <td>NaN</td>\n",
       "      <td>NaN</td>\n",
       "      <td>EUR 83246.85</td>\n",
       "      <td>83246,85</td>\n",
       "    </tr>\n",
       "    <tr>\n",
       "      <th>1</th>\n",
       "      <td>CASH &amp; CASH FUND &amp; FTX CASH (USD)</td>\n",
       "      <td>NaN</td>\n",
       "      <td>NaN</td>\n",
       "      <td>NaN</td>\n",
       "      <td>USD 71.08</td>\n",
       "      <td>66,56</td>\n",
       "    </tr>\n",
       "    <tr>\n",
       "      <th>2</th>\n",
       "      <td>2G ENERGY AG</td>\n",
       "      <td>DE000A0HL8N9</td>\n",
       "      <td>13.0</td>\n",
       "      <td>105,80</td>\n",
       "      <td>EUR 1375.40</td>\n",
       "      <td>1375,40</td>\n",
       "    </tr>\n",
       "    <tr>\n",
       "      <th>3</th>\n",
       "      <td>ABBOTT LABORATORIES CO</td>\n",
       "      <td>US0028241000</td>\n",
       "      <td>25.0</td>\n",
       "      <td>113,19</td>\n",
       "      <td>USD 2829.75</td>\n",
       "      <td>2649,78</td>\n",
       "    </tr>\n",
       "    <tr>\n",
       "      <th>4</th>\n",
       "      <td>ADESSO AG</td>\n",
       "      <td>DE000A0Z23Q5</td>\n",
       "      <td>10.0</td>\n",
       "      <td>171,00</td>\n",
       "      <td>EUR 1710.00</td>\n",
       "      <td>1710,00</td>\n",
       "    </tr>\n",
       "    <tr>\n",
       "      <th>...</th>\n",
       "      <td>...</td>\n",
       "      <td>...</td>\n",
       "      <td>...</td>\n",
       "      <td>...</td>\n",
       "      <td>...</td>\n",
       "      <td>...</td>\n",
       "    </tr>\n",
       "    <tr>\n",
       "      <th>62</th>\n",
       "      <td>VANGUARD FTSE ALL-WORLD UCITS E...</td>\n",
       "      <td>IE00B3RBWM25</td>\n",
       "      <td>120.0</td>\n",
       "      <td>97,17</td>\n",
       "      <td>EUR 11660.40</td>\n",
       "      <td>11660,40</td>\n",
       "    </tr>\n",
       "    <tr>\n",
       "      <th>63</th>\n",
       "      <td>VISA INC.</td>\n",
       "      <td>US92826C8394</td>\n",
       "      <td>13.0</td>\n",
       "      <td>203,84</td>\n",
       "      <td>USD 2649.92</td>\n",
       "      <td>2481,39</td>\n",
       "    </tr>\n",
       "    <tr>\n",
       "      <th>64</th>\n",
       "      <td>WASTE MANAGEMENT INC.</td>\n",
       "      <td>US94106L1098</td>\n",
       "      <td>25.0</td>\n",
       "      <td>156,01</td>\n",
       "      <td>USD 3900.25</td>\n",
       "      <td>3652,19</td>\n",
       "    </tr>\n",
       "    <tr>\n",
       "      <th>65</th>\n",
       "      <td>WDP</td>\n",
       "      <td>BE0974349814</td>\n",
       "      <td>50.0</td>\n",
       "      <td>34,36</td>\n",
       "      <td>EUR 1718.00</td>\n",
       "      <td>1718,00</td>\n",
       "    </tr>\n",
       "    <tr>\n",
       "      <th>66</th>\n",
       "      <td>ZAL P24.00 16DEC22</td>\n",
       "      <td>DE000C2PPRP0</td>\n",
       "      <td>-1.0</td>\n",
       "      <td>2,27</td>\n",
       "      <td>EUR -227.00</td>\n",
       "      <td>-227,00</td>\n",
       "    </tr>\n",
       "  </tbody>\n",
       "</table>\n",
       "<p>67 rows × 6 columns</p>\n",
       "</div>"
      ],
      "text/plain": [
       "                               Produkt   Symbol/ISIN  Anzahl Schlußkurs  \\\n",
       "0    CASH & CASH FUND & FTX CASH (EUR)           NaN     NaN        NaN   \n",
       "1    CASH & CASH FUND & FTX CASH (USD)           NaN     NaN        NaN   \n",
       "2                         2G ENERGY AG  DE000A0HL8N9    13.0     105,80   \n",
       "3               ABBOTT LABORATORIES CO  US0028241000    25.0     113,19   \n",
       "4                            ADESSO AG  DE000A0Z23Q5    10.0     171,00   \n",
       "..                                 ...           ...     ...        ...   \n",
       "62  VANGUARD FTSE ALL-WORLD UCITS E...  IE00B3RBWM25   120.0      97,17   \n",
       "63                           VISA INC.  US92826C8394    13.0     203,84   \n",
       "64               WASTE MANAGEMENT INC.  US94106L1098    25.0     156,01   \n",
       "65                                 WDP  BE0974349814    50.0      34,36   \n",
       "66                  ZAL P24.00 16DEC22  DE000C2PPRP0    -1.0       2,27   \n",
       "\n",
       "            Wert Wert in EUR  \n",
       "0   EUR 83246.85    83246,85  \n",
       "1      USD 71.08       66,56  \n",
       "2    EUR 1375.40     1375,40  \n",
       "3    USD 2829.75     2649,78  \n",
       "4    EUR 1710.00     1710,00  \n",
       "..           ...         ...  \n",
       "62  EUR 11660.40    11660,40  \n",
       "63   USD 2649.92     2481,39  \n",
       "64   USD 3900.25     3652,19  \n",
       "65   EUR 1718.00     1718,00  \n",
       "66   EUR -227.00     -227,00  \n",
       "\n",
       "[67 rows x 6 columns]"
      ]
     },
     "execution_count": 48,
     "metadata": {},
     "output_type": "execute_result"
    }
   ],
   "source": [
    "df = pd.read_csv('../Data/Portfolio-26.05.2022.csv')\n",
    "df"
   ]
  },
  {
   "cell_type": "code",
   "execution_count": null,
   "id": "4ea41e4a",
   "metadata": {},
   "outputs": [],
   "source": [
    "for i,j in df['Produkt'][j]:\n",
    "    print(i[j], ' ', type(i[j]))"
   ]
  },
  {
   "cell_type": "code",
   "execution_count": 202,
   "id": "4cb82c5d",
   "metadata": {},
   "outputs": [
    {
     "data": {
      "text/plain": [
       "0      CASH & CASH FUND & FTX CASH (EUR)/83246,85\n",
       "1         CASH & CASH FUND & FTX CASH (USD)/66,56\n",
       "2                            2G ENERGY AG/1375,40\n",
       "3                  ABBOTT LABORATORIES CO/2649,78\n",
       "4                               ADESSO AG/1710,00\n",
       "                         ...                     \n",
       "62    VANGUARD FTSE ALL-WORLD UCITS E.../11660,40\n",
       "63                              VISA INC./2481,39\n",
       "64                  WASTE MANAGEMENT INC./3652,19\n",
       "65                                    WDP/1718,00\n",
       "66                     ZAL P24.00 16DEC22/-227,00\n",
       "Length: 67, dtype: object"
      ]
     },
     "execution_count": 202,
     "metadata": {},
     "output_type": "execute_result"
    }
   ],
   "source": [
    "df_test = df['Produkt'] + '/' + df['Wert in EUR']\n",
    "df_test"
   ]
  },
  {
   "cell_type": "code",
   "execution_count": null,
   "id": "482be208",
   "metadata": {},
   "outputs": [],
   "source": [
    "def f (x):\n",
    "    for i in df['Produkt']:\n",
    "        print(df['Produkt'][x])\n",
    "        x += 1"
   ]
  },
  {
   "cell_type": "code",
   "execution_count": null,
   "id": "b7548168",
   "metadata": {},
   "outputs": [],
   "source": [
    "def remove_data(data):\n",
    "    ind = 0\n",
    "    for item in data['Produkt']:\n",
    "        tmp = item.split(' ')\n",
    "        if tmp[0] == 'ISHARES':\n",
    "            data.drop(index=ind, inplace=True)\n",
    "        if tmp[0] == 'ODAX':\n",
    "            data.drop(index=ind, inplace=True)\n",
    "        if tmp[0] == 'ISHR':\n",
    "            data.drop(index=ind, inplace=True)\n",
    "        if tmp[0] == 'AMUNDI':\n",
    "            data.drop(index=ind, inplace=True)\n",
    "        if tmp[0] == 'IS':\n",
    "            data.drop(index=ind, inplace=True)\n",
    "        if tmp[0] == 'ES':\n",
    "            data.drop(index=ind, inplace=True)\n",
    "        if tmp[0] == 'CASH':\n",
    "            data.drop(index=ind, inplace=True)\n",
    "        if tmp[0] == 'VANGUARD':\n",
    "            data.drop(index=ind, inplace=True)\n",
    "        if tmp[0] == 'GENERAL':\n",
    "            data.drop(index=ind, inplace=True)\n",
    "        ind += 1"
   ]
  },
  {
   "cell_type": "code",
   "execution_count": null,
   "id": "283dbc15",
   "metadata": {},
   "outputs": [],
   "source": [
    "df.head()"
   ]
  },
  {
   "cell_type": "code",
   "execution_count": 215,
   "id": "edb819a6",
   "metadata": {},
   "outputs": [],
   "source": [
    "some_list = []\n",
    "some_list_wert = []\n",
    "some_list_wert_test = []"
   ]
  },
  {
   "cell_type": "code",
   "execution_count": null,
   "id": "36b033e5",
   "metadata": {},
   "outputs": [],
   "source": [
    "df"
   ]
  },
  {
   "cell_type": "code",
   "execution_count": 231,
   "id": "9e16843f",
   "metadata": {
    "scrolled": true
   },
   "outputs": [],
   "source": [
    "some_list.extend(df['Produkt'])\n",
    "some_list_wert.extend(df['Wert in EUR'])"
   ]
  },
  {
   "cell_type": "code",
   "execution_count": 62,
   "id": "b2adf05d",
   "metadata": {
    "scrolled": true
   },
   "outputs": [
    {
     "data": {
      "text/plain": [
       "[]"
      ]
     },
     "execution_count": 62,
     "metadata": {},
     "output_type": "execute_result"
    }
   ],
   "source": [
    "some_list"
   ]
  },
  {
   "cell_type": "code",
   "execution_count": null,
   "id": "f8ceaa3d",
   "metadata": {
    "scrolled": true
   },
   "outputs": [],
   "source": [
    "some_list_wert_test = list(zip(some_list,some_list_wert))"
   ]
  },
  {
   "cell_type": "code",
   "execution_count": 227,
   "id": "8a59d571",
   "metadata": {},
   "outputs": [],
   "source": [
    "int_list = []\n",
    "underlying_list = ['ALPHABET INC. - CLASS A', 'ANN C50.00 16DEC22', 'HANNOVER RUECK SE', 'BAS P36.00 16DEC22',\n",
    "                  'AS1 C30.00 16DEC22', 'ISHARES $ CORP BOND UCITS ETF U...', 'ISHARES JP MORGAN $ EM BOND UCI...'\n",
    "                  ]"
   ]
  },
  {
   "cell_type": "code",
   "execution_count": null,
   "id": "139efe20",
   "metadata": {
    "scrolled": true
   },
   "outputs": [],
   "source": [
    "type(some_list_wert_test[0][0])"
   ]
  },
  {
   "cell_type": "code",
   "execution_count": 230,
   "id": "78a83848",
   "metadata": {},
   "outputs": [],
   "source": [
    "int_list.clear()\n",
    "some_list.clear()\n",
    "some_list_wert.clear()"
   ]
  },
  {
   "cell_type": "code",
   "execution_count": null,
   "id": "fe3dbcd2",
   "metadata": {},
   "outputs": [],
   "source": [
    "for item in int_list:\n",
    "    some_list.pop(item)\n",
    "    print(item)"
   ]
  },
  {
   "cell_type": "code",
   "execution_count": 195,
   "id": "39e8e6cd",
   "metadata": {},
   "outputs": [],
   "source": [
    "# alternative um unerwünschte Datensätze zu entfernen\n",
    "\n",
    "def daten_entfernen(data):\n",
    "    index = 0\n",
    "    wert = 0\n",
    "    for item in data:\n",
    "        print(item)\n",
    "        int_list.append(some_list.index(item))\n",
    "        some_list.remove(item)\n",
    "        int_list[index] = int_list[index] + index\n",
    "        index += 1\n",
    "        #some_list_wert.pop(int_list[index-1])\n",
    "\n",
    "            "
   ]
  },
  {
   "cell_type": "code",
   "execution_count": 218,
   "id": "99f71be9",
   "metadata": {
    "scrolled": false
   },
   "outputs": [
    {
     "name": "stdout",
     "output_type": "stream",
     "text": [
      "ALPHABET INC. - CLASS A\n",
      "ANN C50.00 16DEC22\n",
      "AS1 C30.00 16DEC22\n",
      "BAS P36.00 16DEC22\n",
      "HANNOVER RUECK SE\n",
      "ISHARES $ CORP BOND UCITS ETF U...\n",
      "ISHARES JP MORGAN $ EM BOND UCI...\n"
     ]
    }
   ],
   "source": [
    "daten_entfernen(underlying_list)"
   ]
  },
  {
   "cell_type": "code",
   "execution_count": 219,
   "id": "7e99b8c6",
   "metadata": {
    "scrolled": true
   },
   "outputs": [
    {
     "data": {
      "text/plain": [
       "[5, 6, 8, 11, 30, 34, 35]"
      ]
     },
     "execution_count": 219,
     "metadata": {},
     "output_type": "execute_result"
    }
   ],
   "source": [
    "int_list"
   ]
  },
  {
   "cell_type": "code",
   "execution_count": 78,
   "id": "ecaf4f3b",
   "metadata": {},
   "outputs": [
    {
     "ename": "IndexError",
     "evalue": "list index out of range",
     "output_type": "error",
     "traceback": [
      "\u001b[0;31m---------------------------------------------------------------------------\u001b[0m",
      "\u001b[0;31mIndexError\u001b[0m                                Traceback (most recent call last)",
      "\u001b[0;32m<ipython-input-78-e4c0b868605c>\u001b[0m in \u001b[0;36m<module>\u001b[0;34m\u001b[0m\n\u001b[0;32m----> 1\u001b[0;31m \u001b[0msome_list_wert\u001b[0m\u001b[0;34m[\u001b[0m\u001b[0;36m6\u001b[0m\u001b[0;34m]\u001b[0m\u001b[0;34m\u001b[0m\u001b[0;34m\u001b[0m\u001b[0m\n\u001b[0m",
      "\u001b[0;31mIndexError\u001b[0m: list index out of range"
     ]
    }
   ],
   "source": [
    "for item in int_list:\n",
    "    some_list_wert.remove"
   ]
  },
  {
   "cell_type": "code",
   "execution_count": 119,
   "id": "f4986f3e",
   "metadata": {},
   "outputs": [
    {
     "data": {
      "text/plain": [
       "'BAS P36.00 16DEC22-129,00'"
      ]
     },
     "execution_count": 119,
     "metadata": {},
     "output_type": "execute_result"
    }
   ],
   "source": [
    "underlying_list[3] + some_list_wert[11]"
   ]
  },
  {
   "cell_type": "code",
   "execution_count": 232,
   "id": "5343a0ee",
   "metadata": {},
   "outputs": [],
   "source": [
    "underlying_list.sort()"
   ]
  },
  {
   "cell_type": "code",
   "execution_count": 197,
   "id": "5c075cfa",
   "metadata": {},
   "outputs": [
    {
     "name": "stdout",
     "output_type": "stream",
     "text": [
      "1981,52\n",
      "3981,79\n",
      "3060,16\n",
      "2379,01\n",
      "5108,25\n",
      "4450,50\n",
      "2582,67\n"
     ]
    }
   ],
   "source": [
    "def werte_entfernen():\n",
    "    index = 0\n",
    "    list_wert = some_list_wert\n",
    "    for item in int_list:\n",
    "        wert = some_list_wert[item]\n",
    "        print(some_list_wert[item])\n",
    "        some_list_wert.remove(wert)\n",
    "        index += 1"
   ]
  },
  {
   "cell_type": "code",
   "execution_count": 189,
   "id": "b6cf3c37",
   "metadata": {},
   "outputs": [],
   "source": [
    "some_list_wert.remove('1981,52')"
   ]
  },
  {
   "cell_type": "code",
   "execution_count": 192,
   "id": "bb8198c0",
   "metadata": {},
   "outputs": [
    {
     "data": {
      "text/plain": [
       "59"
      ]
     },
     "execution_count": 192,
     "metadata": {},
     "output_type": "execute_result"
    }
   ],
   "source": [
    "len(some_list_wert)"
   ]
  },
  {
   "cell_type": "code",
   "execution_count": 211,
   "id": "24bab223",
   "metadata": {
    "scrolled": true
   },
   "outputs": [],
   "source": [
    "def daten_entfernen_test(data):\n",
    "    index = 0\n",
    "    for item in data:\n",
    "        print(item)\n",
    "        some_list.remove(item)\n",
    "        int_list[index] = int_list[index] + index\n",
    "        index += 1\n",
    "        "
   ]
  },
  {
   "cell_type": "code",
   "execution_count": 222,
   "id": "abbf031e",
   "metadata": {},
   "outputs": [
    {
     "data": {
      "text/plain": [
       "'ALPHABET INC. - CLASS A1981,52'"
      ]
     },
     "execution_count": 222,
     "metadata": {},
     "output_type": "execute_result"
    }
   ],
   "source": [
    "underlying_list[0] + df_test[int_list[0]].split('/')[1]"
   ]
  },
  {
   "cell_type": "code",
   "execution_count": 223,
   "id": "e3cd8346",
   "metadata": {},
   "outputs": [],
   "source": [
    "def daten_index_ermitteln(data):\n",
    "    for item in data:\n",
    "        int_list.append(some_list.index(item))\n"
   ]
  },
  {
   "cell_type": "code",
   "execution_count": 233,
   "id": "f9bed7f8",
   "metadata": {},
   "outputs": [],
   "source": [
    "daten_index_ermitteln(underlying_list)"
   ]
  },
  {
   "cell_type": "code",
   "execution_count": 234,
   "id": "eda598ea",
   "metadata": {},
   "outputs": [
    {
     "data": {
      "text/plain": [
       "[5, 6, 8, 11, 30, 34, 35]"
      ]
     },
     "execution_count": 234,
     "metadata": {},
     "output_type": "execute_result"
    }
   ],
   "source": [
    "int_list"
   ]
  },
  {
   "cell_type": "code",
   "execution_count": null,
   "id": "d6a33053",
   "metadata": {},
   "outputs": [],
   "source": [
    "# Notizen von Portdolio Analyse\n",
    "\n",
    "df.sort_values(by=['Wert in EUR'], ascending=True)\n",
    "\n",
    "unsorted_df = df.reindex(\n",
    "   .....:     index=[list(range(0,len(df)))], columns=[\"1\", \"2\", \"3\",\"4\",\"6\" ]\n",
    "   .....: )\n",
    "   .....: \n",
    "\n",
    "df['Wert in EUR'] = df['Wert in EUR'].astype('str') \n",
    "\n",
    "df_tmp = pd.to_numeric(df['Wert in EUR'].str.split(',').str[0])\n",
    "\n",
    "df['Wert in EUR'] = df_tmp\n",
    "\n",
    "df['Wert in EUR'].sum()\n",
    "\n",
    "df_tmp1 = pd.to_numeric(df1['Wert in EUR'].str.split(',').str[0])\n",
    "\n",
    "df1['Wert in EUR'] = df_tmp1\n",
    "\n",
    "df1['Wert in EUR'].sum()"
   ]
  }
 ],
 "metadata": {
  "kernelspec": {
   "display_name": "Python 3",
   "language": "python",
   "name": "python3"
  },
  "language_info": {
   "codemirror_mode": {
    "name": "ipython",
    "version": 3
   },
   "file_extension": ".py",
   "mimetype": "text/x-python",
   "name": "python",
   "nbconvert_exporter": "python",
   "pygments_lexer": "ipython3",
   "version": "3.8.8"
  }
 },
 "nbformat": 4,
 "nbformat_minor": 5
}
