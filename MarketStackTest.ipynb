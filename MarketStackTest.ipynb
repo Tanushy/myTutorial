{
 "cells": [
  {
   "cell_type": "code",
   "execution_count": 1,
   "metadata": {},
   "outputs": [],
   "source": [
    "import requests\n",
    "\n",
    "\n",
    "params = {\n",
    "  'access_key': 'c8c096da5274ce7abe2074269e22266d',\n",
    "    'limit' : '400'\n",
    "}\n",
    "\n",
    "api_result = requests.get('https://api.marketstack.com/v1/tickers/EXS1.XETRA/eod', params)\n",
    "api_result2 = requests.get('https://api.marketstack.com/v1/tickers/SPY/eod', params)\n",
    "\n",
    "api_response = api_result.json()\n",
    "api_response2 = api_result2.json()"
   ]
  },
  {
   "cell_type": "code",
   "execution_count": 2,
   "metadata": {
    "scrolled": true
   },
   "outputs": [
    {
     "data": {
      "text/plain": [
       "400"
      ]
     },
     "execution_count": 2,
     "metadata": {},
     "output_type": "execute_result"
    }
   ],
   "source": [
    "import numpy as np\n",
    "import pandas as pd\n",
    "len(api_response['data']['eod'])"
   ]
  },
  {
   "cell_type": "code",
   "execution_count": 3,
   "metadata": {},
   "outputs": [
    {
     "ename": "TypeError",
     "evalue": "integer argument expected, got float",
     "output_type": "error",
     "traceback": [
      "\u001b[1;31m---------------------------------------------------------------------------\u001b[0m",
      "\u001b[1;31mTypeError\u001b[0m                                 Traceback (most recent call last)",
      "\u001b[1;32m<ipython-input-3-440b4d37aba6>\u001b[0m in \u001b[0;36m<module>\u001b[1;34m\u001b[0m\n\u001b[0;32m      2\u001b[0m \u001b[0mxnp\u001b[0m \u001b[1;33m=\u001b[0m \u001b[0mnp\u001b[0m\u001b[1;33m.\u001b[0m\u001b[0marange\u001b[0m\u001b[1;33m(\u001b[0m\u001b[1;36m1\u001b[0m\u001b[1;33m)\u001b[0m\u001b[1;33m\u001b[0m\u001b[1;33m\u001b[0m\u001b[0m\n\u001b[0;32m      3\u001b[0m \u001b[1;32mfor\u001b[0m \u001b[0mitem\u001b[0m \u001b[1;32min\u001b[0m \u001b[0mnew_list\u001b[0m\u001b[1;33m:\u001b[0m\u001b[1;33m\u001b[0m\u001b[1;33m\u001b[0m\u001b[0m\n\u001b[1;32m----> 4\u001b[1;33m     \u001b[0mnp\u001b[0m\u001b[1;33m.\u001b[0m\u001b[0mstack\u001b[0m\u001b[1;33m(\u001b[0m\u001b[0mxnp\u001b[0m\u001b[1;33m,\u001b[0m \u001b[0mitem\u001b[0m\u001b[1;33m[\u001b[0m\u001b[1;34m'close'\u001b[0m\u001b[1;33m]\u001b[0m\u001b[1;33m)\u001b[0m\u001b[1;33m\u001b[0m\u001b[1;33m\u001b[0m\u001b[0m\n\u001b[0m",
      "\u001b[1;32m~\\Python\\Anaconda3\\lib\\site-packages\\numpy\\core\\shape_base.py\u001b[0m in \u001b[0;36mstack\u001b[1;34m(arrays, axis, out)\u001b[0m\n\u001b[0;32m    417\u001b[0m \u001b[1;33m\u001b[0m\u001b[0m\n\u001b[0;32m    418\u001b[0m     \u001b[0mresult_ndim\u001b[0m \u001b[1;33m=\u001b[0m \u001b[0marrays\u001b[0m\u001b[1;33m[\u001b[0m\u001b[1;36m0\u001b[0m\u001b[1;33m]\u001b[0m\u001b[1;33m.\u001b[0m\u001b[0mndim\u001b[0m \u001b[1;33m+\u001b[0m \u001b[1;36m1\u001b[0m\u001b[1;33m\u001b[0m\u001b[1;33m\u001b[0m\u001b[0m\n\u001b[1;32m--> 419\u001b[1;33m     \u001b[0maxis\u001b[0m \u001b[1;33m=\u001b[0m \u001b[0mnormalize_axis_index\u001b[0m\u001b[1;33m(\u001b[0m\u001b[0maxis\u001b[0m\u001b[1;33m,\u001b[0m \u001b[0mresult_ndim\u001b[0m\u001b[1;33m)\u001b[0m\u001b[1;33m\u001b[0m\u001b[1;33m\u001b[0m\u001b[0m\n\u001b[0m\u001b[0;32m    420\u001b[0m \u001b[1;33m\u001b[0m\u001b[0m\n\u001b[0;32m    421\u001b[0m     \u001b[0msl\u001b[0m \u001b[1;33m=\u001b[0m \u001b[1;33m(\u001b[0m\u001b[0mslice\u001b[0m\u001b[1;33m(\u001b[0m\u001b[1;32mNone\u001b[0m\u001b[1;33m)\u001b[0m\u001b[1;33m,\u001b[0m\u001b[1;33m)\u001b[0m \u001b[1;33m*\u001b[0m \u001b[0maxis\u001b[0m \u001b[1;33m+\u001b[0m \u001b[1;33m(\u001b[0m\u001b[0m_nx\u001b[0m\u001b[1;33m.\u001b[0m\u001b[0mnewaxis\u001b[0m\u001b[1;33m,\u001b[0m\u001b[1;33m)\u001b[0m\u001b[1;33m\u001b[0m\u001b[1;33m\u001b[0m\u001b[0m\n",
      "\u001b[1;31mTypeError\u001b[0m: integer argument expected, got float"
     ]
    }
   ],
   "source": [
    "new_list = api_response['data']['eod']\n",
    "xnp = np.arange(1)\n",
    "for item in new_list:\n",
    "    np.stack(xnp, item['close'])"
   ]
  },
  {
   "cell_type": "code",
   "execution_count": 4,
   "metadata": {},
   "outputs": [],
   "source": [
    "import matplotlib.pyplot as plt"
   ]
  },
  {
   "cell_type": "code",
   "execution_count": 5,
   "metadata": {},
   "outputs": [],
   "source": [
    "#eine Liste mit den gesamten Daten für die Schlusskurse\n",
    "type(api_response['data']['eod'])\n",
    "new_list = api_response['data']['eod']\n",
    "new_list2 = api_response2['data']['eod']"
   ]
  },
  {
   "cell_type": "code",
   "execution_count": 6,
   "metadata": {},
   "outputs": [],
   "source": [
    "#neue Liste mit den Schlusskursen\n",
    "x = []\n",
    "y = []\n",
    "for item in new_list:\n",
    "    x.append(item['close'])\n",
    "for item in new_list2:\n",
    "    y.append(item['close'])"
   ]
  },
  {
   "cell_type": "code",
   "execution_count": 7,
   "metadata": {},
   "outputs": [],
   "source": [
    "# Berchnung der täglichen prozentualen Veränderung + Häufigkeit von Ereignissen zählen\n",
    "x_prozent = [((x[1]/x[0])-1)*100]\n",
    "indx = 0\n",
    "ereignis=0\n",
    "for item in x:\n",
    "    x_prozent.append(((x[indx+1]/x[indx])-1)*100)\n",
    "    indx +=1\n",
    "    if indx == len(x)-1:\n",
    "        break\n",
    "    if x_prozent[indx] <= -2:\n",
    "        ereignis +=1\n",
    "    if x_prozent[indx] >= 2:\n",
    "        ereignis += 1\n",
    "        \n",
    "y_prozent = [((y[1]/y[0])-1)*100]\n",
    "indy = 0\n",
    "ereignisy=0\n",
    "for item in y:\n",
    "    y_prozent.append(((y[indy+1]/y[indy])-1)*100)\n",
    "    indy +=1\n",
    "    if indy == len(y)-1:\n",
    "        break\n",
    "    if y_prozent[indy] <= -2:\n",
    "        ereignisy +=1\n",
    "    if y_prozent[indy] >= 2:\n",
    "        ereignisy += 1"
   ]
  },
  {
   "cell_type": "code",
   "execution_count": 10,
   "metadata": {},
   "outputs": [
    {
     "data": {
      "text/plain": [
       "Text(0.5, 0, 'X_Label')"
      ]
     },
     "execution_count": 10,
     "metadata": {},
     "output_type": "execute_result"
    },
    {
     "data": {
      "image/png": "[encoded data removed]",
      "text/plain": [
       "<Figure size 432x288 with 1 Axes>"
      ]
     },
     "metadata": {
      "needs_background": "light"
     },
     "output_type": "display_data"
    }
   ],
   "source": [
    "plt.hist(x_prozent, bins = 50)\n",
    "plt.xlabel('X_Label')"
   ]
  },
  {
   "cell_type": "code",
   "execution_count": 11,
   "metadata": {},
   "outputs": [
    {
     "name": "stdout",
     "output_type": "stream",
     "text": [
      "0.1075\n",
      "0.1275\n"
     ]
    }
   ],
   "source": [
    "print(ereignis/len(x_prozent))\n",
    "print(ereignisy/len(y_prozent))"
   ]
  },
  {
   "cell_type": "code",
   "execution_count": 12,
   "metadata": {},
   "outputs": [
    {
     "data": {
      "text/plain": [
       "(array([ 1.,  0.,  0.,  0.,  0.,  0.,  0.,  0.,  0.,  0.,  1.,  3.,  0.,\n",
       "         6.,  7.,  3.,  5.,  8.,  9., 14., 11., 15., 22., 17., 23., 36.,\n",
       "        23., 36., 29., 17., 26., 11., 16., 11.,  9., 10.,  5.,  7.,  2.,\n",
       "         4.,  0.,  3.,  2.,  1.,  1.,  1.,  3.,  0.,  1.,  1.]),\n",
       " array([-5.20915149, -5.01405011, -4.81894874, -4.62384737, -4.428746  ,\n",
       "        -4.23364463, -4.03854326, -3.84344189, -3.64834052, -3.45323915,\n",
       "        -3.25813777, -3.0630364 , -2.86793503, -2.67283366, -2.47773229,\n",
       "        -2.28263092, -2.08752955, -1.89242818, -1.69732681, -1.50222543,\n",
       "        -1.30712406, -1.11202269, -0.91692132, -0.72181995, -0.52671858,\n",
       "        -0.33161721, -0.13651584,  0.05858553,  0.25368691,  0.44878828,\n",
       "         0.64388965,  0.83899102,  1.03409239,  1.22919376,  1.42429513,\n",
       "         1.6193965 ,  1.81449787,  2.00959925,  2.20470062,  2.39980199,\n",
       "         2.59490336,  2.79000473,  2.9851061 ,  3.18020747,  3.37530884,\n",
       "         3.57041021,  3.76551159,  3.96061296,  4.15571433,  4.3508157 ,\n",
       "         4.54591707]),\n",
       " <a list of 50 Patch objects>)"
      ]
     },
     "execution_count": 12,
     "metadata": {},
     "output_type": "execute_result"
    },
    {
     "data": {
      "image/png": "[encoded data removed]",
      "text/plain": [
       "<Figure size 432x288 with 1 Axes>"
      ]
     },
     "metadata": {
      "needs_background": "light"
     },
     "output_type": "display_data"
    }
   ],
   "source": [
    "\n",
    "fig, ax = plt.subplots()\n",
    "ax.hist(x_prozent, label='DAX', bins=50)\n",
    "ax.set_title('Simple plot')\n",
    "ax.hist(y_prozent, label='SPY', bins=50)"
   ]
  },
  {
   "cell_type": "code",
   "execution_count": null,
   "metadata": {},
   "outputs": [],
   "source": [
    "fig, ax = plt.subplots()  # Create a figure containing a single axes.\n",
    "ax.plot([1, 2, 3, 4], [1, 4, 2, 3]);  # Plot some data on the axes.\n",
    "ax.plot([1, 2, 3, 4], [2, 5, 3, 4])"
   ]
  },
  {
   "cell_type": "code",
   "execution_count": null,
   "metadata": {},
   "outputs": [],
   "source": [
    "def mandelbrot(h, w, maxit=20, r=2):\n",
    "    \"\"\"Returns an image of the Mandelbrot fractal of size (h,w).\"\"\"\n",
    "    x = np.linspace(-2.5, 1.5, 4*h+1)\n",
    "    y = np.linspace(-1.5, 1.5, 3*w+1)\n",
    "    A, B = np.meshgrid(x, y)\n",
    "    C = A + B*1j\n",
    "    z = np.zeros_like(C)\n",
    "    divtime = maxit + np.zeros(z.shape, dtype=int)\n",
    "\n",
    "    for i in range(maxit):\n",
    "        z = z**2 + C\n",
    "        diverge = abs(z) > r                    # who is diverging\n",
    "        div_now = diverge & (divtime == maxit)  # who is diverging now\n",
    "        divtime[div_now] = i                    # note when\n",
    "        z[diverge] = r                          # avoid diverging too much\n",
    "\n",
    "    return divtime\n",
    "plt.clf()\n",
    "plt.imshow(mandelbrot(400, 400))"
   ]
  },
  {
   "cell_type": "code",
   "execution_count": null,
   "metadata": {},
   "outputs": [],
   "source": []
  }
 ],
 "metadata": {
  "kernelspec": {
   "display_name": "Python 3",
   "language": "python",
   "name": "python3"
  },
  "language_info": {
   "codemirror_mode": {
    "name": "ipython",
    "version": 3
   },
   "file_extension": ".py",
   "mimetype": "text/x-python",
   "name": "python",
   "nbconvert_exporter": "python",
   "pygments_lexer": "ipython3",
   "version": "3.7.4"
  }
 },
 "nbformat": 4,
 "nbformat_minor": 2
}
