{
 "cells": [
  {
   "cell_type": "code",
   "execution_count": 3,
   "id": "8d283e3f",
   "metadata": {},
   "outputs": [],
   "source": [
    "import requests\n",
    "import pandas as pd\n",
    "import numpy as np\n",
    "\n",
    "params = {\n",
    "  'access_key': 'c8c096da5274ce7abe2074269e22266d'\n",
    "}\n",
    "\n",
    "api_result = requests.get('http://api.marketstack.com/v1/tickers/aapl/eod', params)\n",
    "\n",
    "api_response = api_result.json()"
   ]
  },
  {
   "cell_type": "code",
   "execution_count": 11,
   "id": "f1d163b9",
   "metadata": {},
   "outputs": [
    {
     "ename": "SyntaxError",
     "evalue": "invalid syntax (<ipython-input-11-4e3e51b20c43>, line 4)",
     "output_type": "error",
     "traceback": [
      "\u001b[0;36m  File \u001b[0;32m\"<ipython-input-11-4e3e51b20c43>\"\u001b[0;36m, line \u001b[0;32m4\u001b[0m\n\u001b[0;31m    stock_data['high']\u001b[0m\n\u001b[0m    ^\u001b[0m\n\u001b[0;31mSyntaxError\u001b[0m\u001b[0;31m:\u001b[0m invalid syntax\n"
     ]
    }
   ],
   "source": [
    "for stock_data in api_response['data']:\n",
    "    print(u'Ticker %s has a day high of  %s on %s' % (\n",
    "        stock_data['symbol']\n",
    "        stock_data['high']\n",
    "        stock_data['date']\n",
    "))"
   ]
  },
  {
   "cell_type": "code",
   "execution_count": 17,
   "id": "e8483463",
   "metadata": {
    "scrolled": true
   },
   "outputs": [
    {
     "name": "stdout",
     "output_type": "stream",
     "text": [
      "134.76\n",
      "133.41\n",
      "133.49\n",
      "130.73\n",
      "130.15\n",
      "129.62\n",
      "125.02\n",
      "126.36\n",
      "125.07\n",
      "129.93\n",
      "129.61\n",
      "126.04\n",
      "130.03\n",
      "131.86\n",
      "132.23\n",
      "135.45\n",
      "132.3\n",
      "132.37\n",
      "134.51\n",
      "136.5\n",
      "143.21\n",
      "145.47\n",
      "144.49\n",
      "142.16\n",
      "142.65\n",
      "140.94\n",
      "142.91\n",
      "146.63\n",
      "147.81\n",
      "148.31\n",
      "148.03\n",
      "141.17\n",
      "144.22\n",
      "148.11\n",
      "151.07\n",
      "150.18\n",
      "148.01\n",
      "151.29\n",
      "150.72\n",
      "148.79\n",
      "150.04\n",
      "148.28\n",
      "149.7\n",
      "146.87\n",
      "134.87\n",
      "139.5\n",
      "138.92\n",
      "138.38\n",
      "138.88\n",
      "145.03\n",
      "150.65\n",
      "153.34\n",
      "155.74\n",
      "144.8\n",
      "149.35\n",
      "152.34\n",
      "149.45\n",
      "147.27\n",
      "143.39\n",
      "143.86\n",
      "143.75\n",
      "142.41\n",
      "138.38\n",
      "142.99\n",
      "138.34\n",
      "138.98\n",
      "140.42\n",
      "140.09\n",
      "145.43\n",
      "146.4\n",
      "146.1\n",
      "142.45\n",
      "138.2\n",
      "142.48\n",
      "149.84\n",
      "151.76\n",
      "150.77\n",
      "150.43\n",
      "152.74\n",
      "153.72\n",
      "156.9\n",
      "154.48\n",
      "150.7\n",
      "152.37\n",
      "155.31\n",
      "153.84\n",
      "163.43\n",
      "157.37\n",
      "154.46\n",
      "155.96\n",
      "154.53\n",
      "155.81\n",
      "157.96\n",
      "157.22\n",
      "158.91\n",
      "161.38\n",
      "163.62\n",
      "170.03\n",
      "167.53\n",
      "167.23\n"
     ]
    }
   ],
   "source": [
    "for item in api_response['data']['eod']:\n",
    "    print(item['close'])"
   ]
  },
  {
   "cell_type": "code",
   "execution_count": null,
   "id": "0a291834",
   "metadata": {},
   "outputs": [],
   "source": []
  }
 ],
 "metadata": {
  "kernelspec": {
   "display_name": "Python 3",
   "language": "python",
   "name": "python3"
  },
  "language_info": {
   "codemirror_mode": {
    "name": "ipython",
    "version": 3
   },
   "file_extension": ".py",
   "mimetype": "text/x-python",
   "name": "python",
   "nbconvert_exporter": "python",
   "pygments_lexer": "ipython3",
   "version": "3.8.8"
  }
 },
 "nbformat": 4,
 "nbformat_minor": 5
}
