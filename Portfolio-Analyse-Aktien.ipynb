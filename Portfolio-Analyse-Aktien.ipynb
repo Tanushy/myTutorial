{
 "cells": [
  {
   "cell_type": "code",
   "execution_count": 2,
   "id": "41daec60",
   "metadata": {},
   "outputs": [],
   "source": [
    "###    eine Anwendung zur steuerung von Daten eines Aktien Portfolios    ###\n",
    "\n",
    "\n",
    "\n",
    "import pandas as pd\n",
    "import numpy as np"
   ]
  },
  {
   "cell_type": "code",
   "execution_count": 3,
   "id": "410c78d7",
   "metadata": {},
   "outputs": [
    {
     "data": {
      "text/plain": [
       "'/Users/artannasradini/Programming/python_work/Jupyter-Tutorial'"
      ]
     },
     "execution_count": 3,
     "metadata": {},
     "output_type": "execute_result"
    }
   ],
   "source": [
    "pwd"
   ]
  },
  {
   "cell_type": "code",
   "execution_count": 4,
   "id": "b97426cc",
   "metadata": {
    "scrolled": true
   },
   "outputs": [
    {
     "data": {
      "text/html": [
       "<div>\n",
       "<style scoped>\n",
       "    .dataframe tbody tr th:only-of-type {\n",
       "        vertical-align: middle;\n",
       "    }\n",
       "\n",
       "    .dataframe tbody tr th {\n",
       "        vertical-align: top;\n",
       "    }\n",
       "\n",
       "    .dataframe thead th {\n",
       "        text-align: right;\n",
       "    }\n",
       "</style>\n",
       "<table border=\"1\" class=\"dataframe\">\n",
       "  <thead>\n",
       "    <tr style=\"text-align: right;\">\n",
       "      <th></th>\n",
       "      <th>Produkt</th>\n",
       "      <th>Symbol/ISIN</th>\n",
       "      <th>Anzahl</th>\n",
       "      <th>Schlußkurs</th>\n",
       "      <th>Wert</th>\n",
       "      <th>Wert in EUR</th>\n",
       "    </tr>\n",
       "  </thead>\n",
       "  <tbody>\n",
       "    <tr>\n",
       "      <th>0</th>\n",
       "      <td>CASH &amp; CASH FUND &amp; FTX CASH (EUR)</td>\n",
       "      <td>NaN</td>\n",
       "      <td>NaN</td>\n",
       "      <td>NaN</td>\n",
       "      <td>EUR 9296.96</td>\n",
       "      <td>9296,96</td>\n",
       "    </tr>\n",
       "    <tr>\n",
       "      <th>1</th>\n",
       "      <td>2G ENERGY AG</td>\n",
       "      <td>DE000A0HL8N9</td>\n",
       "      <td>52.0</td>\n",
       "      <td>26,05</td>\n",
       "      <td>EUR 1354.60</td>\n",
       "      <td>1354,60</td>\n",
       "    </tr>\n",
       "    <tr>\n",
       "      <th>2</th>\n",
       "      <td>ADESSO AG</td>\n",
       "      <td>DE000A0Z23Q5</td>\n",
       "      <td>10.0</td>\n",
       "      <td>151,80</td>\n",
       "      <td>EUR 1518.00</td>\n",
       "      <td>1518,00</td>\n",
       "    </tr>\n",
       "    <tr>\n",
       "      <th>3</th>\n",
       "      <td>ALPHABET INC. - CLASS A</td>\n",
       "      <td>US02079K3059</td>\n",
       "      <td>30.0</td>\n",
       "      <td>92,12</td>\n",
       "      <td>USD 2763.60</td>\n",
       "      <td>2551,36</td>\n",
       "    </tr>\n",
       "    <tr>\n",
       "      <th>4</th>\n",
       "      <td>AMUNDI EURAGGCO DR</td>\n",
       "      <td>LU1437018168</td>\n",
       "      <td>-200.0</td>\n",
       "      <td>47,76</td>\n",
       "      <td>EUR -9551.20</td>\n",
       "      <td>-9551,20</td>\n",
       "    </tr>\n",
       "  </tbody>\n",
       "</table>\n",
       "</div>"
      ],
      "text/plain": [
       "                             Produkt   Symbol/ISIN  Anzahl Schlußkurs  \\\n",
       "0  CASH & CASH FUND & FTX CASH (EUR)           NaN     NaN        NaN   \n",
       "1                       2G ENERGY AG  DE000A0HL8N9    52.0      26,05   \n",
       "2                          ADESSO AG  DE000A0Z23Q5    10.0     151,80   \n",
       "3            ALPHABET INC. - CLASS A  US02079K3059    30.0      92,12   \n",
       "4                 AMUNDI EURAGGCO DR  LU1437018168  -200.0      47,76   \n",
       "\n",
       "           Wert Wert in EUR  \n",
       "0   EUR 9296.96     9296,96  \n",
       "1   EUR 1354.60     1354,60  \n",
       "2   EUR 1518.00     1518,00  \n",
       "3   USD 2763.60     2551,36  \n",
       "4  EUR -9551.20    -9551,20  "
      ]
     },
     "execution_count": 4,
     "metadata": {},
     "output_type": "execute_result"
    }
   ],
   "source": [
    "df = pd.read_csv(\"../Portfolio-Analyse/CSV-Data/Portfolio-02.01.2023.csv\")\n",
    "df1 = pd.read_csv(\"../Portfolio-Analyse/CSV-Data/Portfolio-16.01.2023.csv\")\n",
    "df1.head()"
   ]
  },
  {
   "cell_type": "code",
   "execution_count": 5,
   "id": "dd6b0232",
   "metadata": {},
   "outputs": [],
   "source": [
    "#     Funktion um unerwünschte Datensätze zu entfernen\n",
    "\n",
    "def remove_data(data):\n",
    "    ind = 0\n",
    "    for item in data['Produkt']:\n",
    "        tmp = item.split(' ')\n",
    "        if tmp[0] == 'ISHARES':\n",
    "            data.drop(index=ind, inplace=True)\n",
    "        if tmp[0] == 'ODAX':\n",
    "            data.drop(index=ind, inplace=True)\n",
    "        if tmp[0] == 'ISHR':\n",
    "            data.drop(index=ind, inplace=True)\n",
    "        if tmp[0] == 'AMUNDI':\n",
    "            data.drop(index=ind, inplace=True)\n",
    "        if tmp[0] == 'IS':\n",
    "            data.drop(index=ind, inplace=True)\n",
    "        if tmp[0] == 'ES':\n",
    "            data.drop(index=ind, inplace=True)\n",
    "        if tmp[0] == 'CASH':\n",
    "            data.drop(index=ind, inplace=True)\n",
    "        if tmp[0] == 'VANGUARD':\n",
    "            data.drop(index=ind, inplace=True)\n",
    "        if tmp[0] == 'GENERAL':\n",
    "            data.drop(index=ind, inplace=True)\n",
    "        ind += 1\n",
    "    # der Index der Zeilen wird neu gesetzt\n",
    "    q = list(range(0,len(data)))\n",
    "    data.set_index([pd.Index(q)], inplace=True)"
   ]
  },
  {
   "cell_type": "code",
   "execution_count": 6,
   "id": "9d804aa2",
   "metadata": {},
   "outputs": [],
   "source": [
    "#     Funktion zur Berechnung der Summe in EUR. \n",
    "\n",
    "def summe_berechnen(data):\n",
    "    summe = 0\n",
    "    for item in data['Wert in EUR']:\n",
    "        summe = summe + float(item.split(',')[0])\n",
    "    return summe"
   ]
  },
  {
   "cell_type": "code",
   "execution_count": null,
   "id": "09dada19",
   "metadata": {},
   "outputs": [],
   "source": [
    "\n",
    "print((summe_berechnen(df1)-(auszahlungen()))/summe_berechnen(df))"
   ]
  },
  {
   "cell_type": "code",
   "execution_count": null,
   "id": "8e095db0",
   "metadata": {},
   "outputs": [],
   "source": [
    "print(summe_berechnen(df1)-(auszahlungen()))\n",
    "print(summe_berechnen(df))"
   ]
  },
  {
   "cell_type": "code",
   "execution_count": 14,
   "id": "bb6c0d46",
   "metadata": {},
   "outputs": [],
   "source": [
    "#  Funktion zur Filterung von Auszahlungen für einen Zeitraum der als csv Datei übergeben werden muss\n",
    "\n",
    "def auszahlungen():\n",
    "    index = 0\n",
    "    summe = 0\n",
    "    df = pd.read_csv(\"../Portfolio-Analyse/CSV-Data/Konto/01.12.2022-12.01.2023.csv\", index_col=0)\n",
    "    df.set_axis(list('ABCDEFGHIJK'), axis = 1, inplace=True)\n",
    "    for item in df['E']:\n",
    "        if item=='flatex Auszahlung':\n",
    "            summe = summe + float(df['H'][index].split(',')[0])\n",
    "        index = index + 1\n",
    "    return summe"
   ]
  },
  {
   "cell_type": "code",
   "execution_count": 8,
   "id": "44df6115",
   "metadata": {},
   "outputs": [],
   "source": [
    "# Funktion zur Berechnung von Transaktionskosten einer CSV-Datei \n",
    "\n",
    "def transaktions_kosten():\n",
    "    index = 0\n",
    "    summe = 0\n",
    "    df = pd.read_csv(\"../Portfolio-Analyse/CSV-Data/Konto/01.07.2022-13.01.2023.csv\", index_col=0)\n",
    "    df.set_axis(list('ABCDEFGHIJK'), axis = 1, inplace=True)\n",
    "    for item in df['E']:\n",
    "        if item=='DEGIRO Transaktionsgebühren und/oder Fremdkosten':\n",
    "            summe = summe + float(df['H'][index].split(',')[0])\n",
    "        index = index + 1\n",
    "    return summe"
   ]
  },
  {
   "cell_type": "code",
   "execution_count": 9,
   "id": "c2ee4177",
   "metadata": {},
   "outputs": [],
   "source": [
    "# das Ergebnis ist nicht richtig da Devisen nicht umgerechnet werden\n",
    "\n",
    "def dividenden():\n",
    "    index = 0\n",
    "    summe = 0\n",
    "    df = pd.read_csv(\"../Portfolio-Analyse/CSV-Data/Konto/01.07.2022-13.01.2023.csv\", index_col=0)\n",
    "    df.set_axis(list('ABCDEFGHIJK'), axis = 1, inplace=True)\n",
    "    for item in df['E']:\n",
    "        if item=='Dividende':\n",
    "            summe = summe + float(df['H'][index].split(',')[0])\n",
    "        index = index + 1\n",
    "    return summe"
   ]
  },
  {
   "cell_type": "code",
   "execution_count": null,
   "id": "fdba87d1",
   "metadata": {},
   "outputs": [],
   "source": [
    "def werte_sortieren(data):\n",
    "    data.sort_values(by=['Wert in EUR'], ascending=False)\n",
    "    return data"
   ]
  },
  {
   "cell_type": "code",
   "execution_count": 10,
   "id": "5bc24ecd",
   "metadata": {},
   "outputs": [],
   "source": [
    "remove_data(df)\n",
    "remove_data(df1)"
   ]
  },
  {
   "cell_type": "code",
   "execution_count": 16,
   "id": "b8e4a366",
   "metadata": {},
   "outputs": [
    {
     "name": "stdout",
     "output_type": "stream",
     "text": [
      "64886.0\n",
      "66857.0\n"
     ]
    }
   ],
   "source": [
    "print(summe_berechnen(df))\n",
    "print(summe_berechnen(df1)+6727)"
   ]
  },
  {
   "cell_type": "code",
   "execution_count": 15,
   "id": "b6645ca4",
   "metadata": {},
   "outputs": [
    {
     "data": {
      "text/plain": [
       "-9388.0"
      ]
     },
     "execution_count": 15,
     "metadata": {},
     "output_type": "execute_result"
    }
   ],
   "source": [
    "auszahlungen()"
   ]
  },
  {
   "cell_type": "code",
   "execution_count": 17,
   "id": "20ece51e",
   "metadata": {},
   "outputs": [
    {
     "name": "stdout",
     "output_type": "stream",
     "text": [
      "1.030376352371852\n"
     ]
    }
   ],
   "source": [
    "print((summe_berechnen(df1)+6727)/summe_berechnen(df))"
   ]
  }
 ],
 "metadata": {
  "kernelspec": {
   "display_name": "Python 3",
   "language": "python",
   "name": "python3"
  },
  "language_info": {
   "codemirror_mode": {
    "name": "ipython",
    "version": 3
   },
   "file_extension": ".py",
   "mimetype": "text/x-python",
   "name": "python",
   "nbconvert_exporter": "python",
   "pygments_lexer": "ipython3",
   "version": "3.8.8"
  }
 },
 "nbformat": 4,
 "nbformat_minor": 5
}
