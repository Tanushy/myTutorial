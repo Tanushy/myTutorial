{
 "cells": [
  {
   "cell_type": "code",
   "execution_count": 1,
   "metadata": {},
   "outputs": [],
   "source": [
    "import pandas as pd\n",
    "import numpy as np\n",
    "import os\n",
    "from pathlib import Path\n",
    "import glob"
   ]
  },
  {
   "cell_type": "code",
   "execution_count": null,
   "metadata": {},
   "outputs": [],
   "source": [
    "p = Path('./CSV-Files')"
   ]
  },
  {
   "cell_type": "code",
   "execution_count": 2,
   "metadata": {},
   "outputs": [
    {
     "data": {
      "text/plain": [
       "'C:\\\\Users\\\\Artan\\\\Desktop\\\\Projekt-Portfolio-Analyse-py\\\\PythonJupyterNotebook'"
      ]
     },
     "execution_count": 2,
     "metadata": {},
     "output_type": "execute_result"
    }
   ],
   "source": [
    "pwd"
   ]
  },
  {
   "cell_type": "code",
   "execution_count": 27,
   "metadata": {},
   "outputs": [],
   "source": [
    "files = glob.glob(\"./CSV-Files/Degiro_CSV/*.csv\")\n",
    "dfList = [pd.read_csv(file) for file in files]"
   ]
  },
  {
   "cell_type": "code",
   "execution_count": null,
   "metadata": {},
   "outputs": [],
   "source": [
    "dfList"
   ]
  },
  {
   "cell_type": "code",
   "execution_count": 28,
   "metadata": {
    "scrolled": true
   },
   "outputs": [
    {
     "data": {
      "text/html": [
       "<div>\n",
       "<style scoped>\n",
       "    .dataframe tbody tr th:only-of-type {\n",
       "        vertical-align: middle;\n",
       "    }\n",
       "\n",
       "    .dataframe tbody tr th {\n",
       "        vertical-align: top;\n",
       "    }\n",
       "\n",
       "    .dataframe thead th {\n",
       "        text-align: right;\n",
       "    }\n",
       "</style>\n",
       "<table border=\"1\" class=\"dataframe\">\n",
       "  <thead>\n",
       "    <tr style=\"text-align: right;\">\n",
       "      <th></th>\n",
       "      <th>Produkt</th>\n",
       "      <th>Symbol/ISIN</th>\n",
       "      <th>Anzahl</th>\n",
       "      <th>Schlußkurs</th>\n",
       "      <th>Wert</th>\n",
       "      <th>Wert in EUR</th>\n",
       "    </tr>\n",
       "  </thead>\n",
       "  <tbody>\n",
       "    <tr>\n",
       "      <td>0</td>\n",
       "      <td>CASH &amp; CASH FUND &amp; FTX CASH (EUR)</td>\n",
       "      <td>NaN</td>\n",
       "      <td>NaN</td>\n",
       "      <td>NaN</td>\n",
       "      <td>EUR 12000.00</td>\n",
       "      <td>12000,00</td>\n",
       "    </tr>\n",
       "    <tr>\n",
       "      <td>1</td>\n",
       "      <td>2G ENERGY AG</td>\n",
       "      <td>DE000A0HL8N9</td>\n",
       "      <td>52.0</td>\n",
       "      <td>25,00</td>\n",
       "      <td>EUR 1300.00</td>\n",
       "      <td>1300,00</td>\n",
       "    </tr>\n",
       "    <tr>\n",
       "      <td>2</td>\n",
       "      <td>ADESSO AG</td>\n",
       "      <td>DE000A0Z23Q5</td>\n",
       "      <td>10.0</td>\n",
       "      <td>142,20</td>\n",
       "      <td>EUR 1422.00</td>\n",
       "      <td>1422,00</td>\n",
       "    </tr>\n",
       "    <tr>\n",
       "      <td>3</td>\n",
       "      <td>ALPHABET INC. - CLASS A</td>\n",
       "      <td>US02079K3059</td>\n",
       "      <td>30.0</td>\n",
       "      <td>88,42</td>\n",
       "      <td>USD 2652.60</td>\n",
       "      <td>2471,43</td>\n",
       "    </tr>\n",
       "    <tr>\n",
       "      <td>4</td>\n",
       "      <td>AMUNDI EURAGGCO DR</td>\n",
       "      <td>LU1437018168</td>\n",
       "      <td>-200.0</td>\n",
       "      <td>47,30</td>\n",
       "      <td>EUR -9460.80</td>\n",
       "      <td>-9460,80</td>\n",
       "    </tr>\n",
       "  </tbody>\n",
       "</table>\n",
       "</div>"
      ],
      "text/plain": [
       "                             Produkt   Symbol/ISIN  Anzahl Schlußkurs  \\\n",
       "0  CASH & CASH FUND & FTX CASH (EUR)           NaN     NaN        NaN   \n",
       "1                       2G ENERGY AG  DE000A0HL8N9    52.0      25,00   \n",
       "2                          ADESSO AG  DE000A0Z23Q5    10.0     142,20   \n",
       "3            ALPHABET INC. - CLASS A  US02079K3059    30.0      88,42   \n",
       "4                 AMUNDI EURAGGCO DR  LU1437018168  -200.0      47,30   \n",
       "\n",
       "           Wert Wert in EUR  \n",
       "0  EUR 12000.00    12000,00  \n",
       "1   EUR 1300.00     1300,00  \n",
       "2   EUR 1422.00     1422,00  \n",
       "3   USD 2652.60     2471,43  \n",
       "4  EUR -9460.80    -9460,80  "
      ]
     },
     "execution_count": 28,
     "metadata": {},
     "output_type": "execute_result"
    }
   ],
   "source": [
    "dfList[0].head()"
   ]
  },
  {
   "cell_type": "code",
   "execution_count": 5,
   "metadata": {},
   "outputs": [],
   "source": [
    "def summe_berechnen(index):\n",
    "    summe = 0\n",
    "    for item in dfList[index]['Wert in EUR']:\n",
    "        summe = summe + float(item.split(',')[0])\n",
    "    return summe\n"
   ]
  },
  {
   "cell_type": "code",
   "execution_count": 6,
   "metadata": {},
   "outputs": [
    {
     "name": "stdout",
     "output_type": "stream",
     "text": [
      "-0.02862816031769777\n",
      "0.03782692769128704\n",
      "-0.039752243094521744\n",
      "0.029568954690705196\n",
      "-0.02313915526748045\n",
      "-0.013706641570314648\n",
      "0.0037786774628880693\n",
      "-0.003864896656024186\n",
      "-0.004749640432150426\n",
      "-0.008292699107705581\n",
      "0.06613902563232044\n",
      "-0.00693956676874663\n",
      "-0.00035106935726225696\n",
      "-0.0005473684210526297\n",
      "0.002067423315471828\n",
      "-0.010795920922661684\n",
      "0.016295165178539905\n",
      "-0.004917271652878585\n",
      "0.004515486209747621\n"
     ]
    }
   ],
   "source": [
    "for integer in range(0, len(files)):\n",
    "    if integer == len(files)-1:\n",
    "        break\n",
    "    print(((summe_berechnen(integer)/summe_berechnen(integer+1))-1))"
   ]
  },
  {
   "cell_type": "code",
   "execution_count": 29,
   "metadata": {},
   "outputs": [
    {
     "data": {
      "text/html": [
       "<div>\n",
       "<style scoped>\n",
       "    .dataframe tbody tr th:only-of-type {\n",
       "        vertical-align: middle;\n",
       "    }\n",
       "\n",
       "    .dataframe tbody tr th {\n",
       "        vertical-align: top;\n",
       "    }\n",
       "\n",
       "    .dataframe thead th {\n",
       "        text-align: right;\n",
       "    }\n",
       "</style>\n",
       "<table border=\"1\" class=\"dataframe\">\n",
       "  <thead>\n",
       "    <tr style=\"text-align: right;\">\n",
       "      <th></th>\n",
       "      <th>Produkt</th>\n",
       "      <th>Symbol/ISIN</th>\n",
       "      <th>Anzahl</th>\n",
       "      <th>Schlußkurs</th>\n",
       "      <th>Wert</th>\n",
       "      <th>Wert in EUR</th>\n",
       "    </tr>\n",
       "  </thead>\n",
       "  <tbody>\n",
       "    <tr>\n",
       "      <td>0</td>\n",
       "      <td>CASH &amp; CASH FUND &amp; FTX CASH (EUR)</td>\n",
       "      <td>NaN</td>\n",
       "      <td>NaN</td>\n",
       "      <td>NaN</td>\n",
       "      <td>EUR 15973.30</td>\n",
       "      <td>15973,30</td>\n",
       "    </tr>\n",
       "    <tr>\n",
       "      <td>1</td>\n",
       "      <td>2G ENERGY AG</td>\n",
       "      <td>DE000A0HL8N9</td>\n",
       "      <td>52.0</td>\n",
       "      <td>24,00</td>\n",
       "      <td>EUR 1248.00</td>\n",
       "      <td>1248,00</td>\n",
       "    </tr>\n",
       "    <tr>\n",
       "      <td>2</td>\n",
       "      <td>ADESSO AG</td>\n",
       "      <td>DE000A0Z23Q5</td>\n",
       "      <td>10.0</td>\n",
       "      <td>134,80</td>\n",
       "      <td>EUR 1348.00</td>\n",
       "      <td>1348,00</td>\n",
       "    </tr>\n",
       "    <tr>\n",
       "      <td>3</td>\n",
       "      <td>ALPHABET INC. - CLASS A</td>\n",
       "      <td>US02079K3059</td>\n",
       "      <td>30.0</td>\n",
       "      <td>88,23</td>\n",
       "      <td>USD 2646.90</td>\n",
       "      <td>2481,47</td>\n",
       "    </tr>\n",
       "    <tr>\n",
       "      <td>4</td>\n",
       "      <td>AMUNDI EURAGGCO DR</td>\n",
       "      <td>LU1437018168</td>\n",
       "      <td>-200.0</td>\n",
       "      <td>47,10</td>\n",
       "      <td>EUR -9419.40</td>\n",
       "      <td>-9419,40</td>\n",
       "    </tr>\n",
       "  </tbody>\n",
       "</table>\n",
       "</div>"
      ],
      "text/plain": [
       "                             Produkt   Symbol/ISIN  Anzahl Schlußkurs  \\\n",
       "0  CASH & CASH FUND & FTX CASH (EUR)           NaN     NaN        NaN   \n",
       "1                       2G ENERGY AG  DE000A0HL8N9    52.0      24,00   \n",
       "2                          ADESSO AG  DE000A0Z23Q5    10.0     134,80   \n",
       "3            ALPHABET INC. - CLASS A  US02079K3059    30.0      88,23   \n",
       "4                 AMUNDI EURAGGCO DR  LU1437018168  -200.0      47,10   \n",
       "\n",
       "           Wert Wert in EUR  \n",
       "0  EUR 15973.30    15973,30  \n",
       "1   EUR 1248.00     1248,00  \n",
       "2   EUR 1348.00     1348,00  \n",
       "3   USD 2646.90     2481,47  \n",
       "4  EUR -9419.40    -9419,40  "
      ]
     },
     "execution_count": 29,
     "metadata": {},
     "output_type": "execute_result"
    }
   ],
   "source": [
    "dfList[1].head()"
   ]
  },
  {
   "cell_type": "code",
   "execution_count": 34,
   "metadata": {},
   "outputs": [
    {
     "name": "stdout",
     "output_type": "stream",
     "text": [
      "-0.007143105788979032\n"
     ]
    }
   ],
   "source": [
    " print(((summe_berechnen(1)/summe_berechnen(0))-1))"
   ]
  },
  {
   "cell_type": "code",
   "execution_count": 32,
   "metadata": {},
   "outputs": [
    {
     "name": "stdout",
     "output_type": "stream",
     "text": [
      "143635.0\n"
     ]
    }
   ],
   "source": [
    "print(summe_berechnen(0))"
   ]
  },
  {
   "cell_type": "code",
   "execution_count": 33,
   "metadata": {},
   "outputs": [
    {
     "name": "stdout",
     "output_type": "stream",
     "text": [
      "142609.0\n"
     ]
    }
   ],
   "source": [
    "print(summe_berechnen(1))"
   ]
  }
 ],
 "metadata": {
  "kernelspec": {
   "display_name": "Python 3",
   "language": "python",
   "name": "python3"
  },
  "language_info": {
   "codemirror_mode": {
    "name": "ipython",
    "version": 3
   },
   "file_extension": ".py",
   "mimetype": "text/x-python",
   "name": "python",
   "nbconvert_exporter": "python",
   "pygments_lexer": "ipython3",
   "version": "3.7.4"
  }
 },
 "nbformat": 4,
 "nbformat_minor": 2
}
