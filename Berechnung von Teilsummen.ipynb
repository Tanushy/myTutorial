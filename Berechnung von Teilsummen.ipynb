{
 "cells": [
  {
   "cell_type": "code",
   "execution_count": 3,
   "metadata": {},
   "outputs": [],
   "source": [
    "### eine Beschreibung zusätzliche Beschreibung a  ###\n",
    "\n",
    "import os\n",
    "import pandas as pd\n",
    "\n",
    "path = '../Data/'\n",
    "\n",
    "all_files = os.listdir(path)\n",
    "csv_files = [file for file in all_files if file.endswith('.csv')]\n",
    "\n",
    "df = pd.concat((pd.read_csv(f'{path}/{file}') for file in csv_files))\n",
    "\n"
   ]
  },
  {
   "cell_type": "code",
   "execution_count": 2,
   "metadata": {},
   "outputs": [
    {
     "data": {
      "text/plain": [
       "'/Users/artannasradini/Programming/python_work/Jupyter-Tutorial'"
      ]
     },
     "execution_count": 2,
     "metadata": {},
     "output_type": "execute_result"
    }
   ],
   "source": [
    "pwd"
   ]
  },
  {
   "cell_type": "code",
   "execution_count": 4,
   "metadata": {},
   "outputs": [
    {
     "data": {
      "text/plain": [
       "12"
      ]
     },
     "execution_count": 4,
     "metadata": {},
     "output_type": "execute_result"
    }
   ],
   "source": [
    "len(csv_files)"
   ]
  },
  {
   "cell_type": "code",
   "execution_count": 35,
   "metadata": {},
   "outputs": [
    {
     "name": "stdout",
     "output_type": "stream",
     "text": [
      "10314,75\n",
      "10186,05\n",
      "4951,98\n",
      "4951,98\n",
      "3676,02\n",
      "3676,02\n",
      "2413,53\n",
      "2455,94\n",
      "2480,23\n",
      "2475,23\n"
     ]
    }
   ],
   "source": [
    "for item in df['Wert in EUR'][0]:\n",
    "    print(item)"
   ]
  },
  {
   "cell_type": "code",
   "execution_count": 5,
   "metadata": {},
   "outputs": [],
   "source": [
    "####    Umwandlung der Spalte 'Wert in EUR' in Int64  ####\n",
    "\n",
    "df_tmp = pd.to_numeric(df['Wert in EUR'].str.split(',').str[0])\n",
    "\n",
    "df['Wert in EUR'] = df_tmp\n",
    "\n",
    "df.reset_index(inplace=True)"
   ]
  },
  {
   "cell_type": "code",
   "execution_count": 10,
   "metadata": {},
   "outputs": [],
   "source": [
    "#### Findet den passenden Index für die Teilsummen   ####\n",
    "\n",
    "df_index_teilsummen = df[df['Produkt'] == 'CASH & CASH FUND & FTX CASH (EUR)']\n",
    "\n"
   ]
  },
  {
   "cell_type": "code",
   "execution_count": 18,
   "metadata": {},
   "outputs": [],
   "source": [
    "### findet den passenden Index für die Teilsummen   ####\n",
    "\n",
    "def index_teilsummen(df):\n",
    "    df_tmp = df[df['Produkt'] == 'CASH & CASH FUND & FTX CASH (EUR)']\n",
    "    return df_tmp"
   ]
  },
  {
   "cell_type": "code",
   "execution_count": 95,
   "metadata": {},
   "outputs": [],
   "source": [
    "df_sorted = df.sort_values(by=['Wert in EUR'], ascending=False)"
   ]
  },
  {
   "cell_type": "code",
   "execution_count": 104,
   "metadata": {},
   "outputs": [
    {
     "data": {
      "text/plain": [
       "25592"
      ]
     },
     "execution_count": 104,
     "metadata": {},
     "output_type": "execute_result"
    }
   ],
   "source": [
    "df_sorted.reset_index()['Wert in EUR'][0]"
   ]
  },
  {
   "cell_type": "code",
   "execution_count": 11,
   "metadata": {},
   "outputs": [
    {
     "data": {
      "text/plain": [
       "'THERMO FISHER SCIENTIF'"
      ]
     },
     "execution_count": 11,
     "metadata": {},
     "output_type": "execute_result"
    }
   ],
   "source": [
    "df['Produkt'][80]"
   ]
  },
  {
   "cell_type": "code",
   "execution_count": 26,
   "metadata": {},
   "outputs": [
    {
     "data": {
      "text/plain": [
       "2165490"
      ]
     },
     "execution_count": 26,
     "metadata": {},
     "output_type": "execute_result"
    }
   ],
   "source": [
    "df['Wert in EUR'].sum()"
   ]
  },
  {
   "cell_type": "code",
   "execution_count": 11,
   "metadata": {
    "scrolled": true
   },
   "outputs": [
    {
     "data": {
      "text/plain": [
       "0      CASH & CASH FUND & FTX CASH (EUR)\n",
       "1      CASH & CASH FUND & FTX CASH (SEK)\n",
       "2                           2G ENERGY AG\n",
       "3                 ABBOTT LABORATORIES CO\n",
       "4     ACADEMY SPORTS AND OUTDOORS INC...\n",
       "5                 ACCENTURE PLC. CLASS A\n",
       "6                              ADESSO AG\n",
       "7                              ADIDAS AG\n",
       "8                                  ADYEN\n",
       "9                             ALLIANZ SE\n",
       "10                            AMUNDI AIW\n",
       "11                 ARTHUR J. GALLAGHER &\n",
       "12                          ASML HOLDING\n",
       "13            ATLASSIAN CORP PLC-CLASS A\n",
       "14                     ATOSS SOFTWARE AG\n",
       "15                AVANZA BANK HOLDING AB\n",
       "16                BANK NOVA SCOTIA HALIF\n",
       "17                       BEYOND MEAT INC\n",
       "18                 CARL ZEISS MEDITEC AG\n",
       "19                 CHEGG INC. COMMON STO\n",
       "20                            CLIMEON AB\n",
       "21                       CLIQ DIGITAL AG\n",
       "22                CME GROUP INC. - CLASS\n",
       "23          COINBASE GLOBAL INC -CLASS A\n",
       "24                  COPART INC. - COMMON\n",
       "25                 DERMAPHARM HOLDING SE\n",
       "26                    DEUTSCHE BOERSE AG\n",
       "27                                DIAGEO\n",
       "28                        DINO POLSKA SA\n",
       "29                              DNB BANK\n",
       "30                               DSV A/S\n",
       "31                     EMBRACER GROUP AB\n",
       "32                                EQT AB\n",
       "33                     ES 4900 C 17JUN22\n",
       "34                     ES 5000 C 17JUN22\n",
       "35                 ETSY INC. - COMMON ST\n",
       "36                              EURONEXT\n",
       "37                       FLATEXDEGIRO AG\n",
       "38                        FOCUS HOME INT\n",
       "39                 FORTINET INC. - COMMO\n",
       "Name: Produkt, dtype: object"
      ]
     },
     "execution_count": 11,
     "metadata": {},
     "output_type": "execute_result"
    }
   ],
   "source": [
    "df['Produkt'][0:40]"
   ]
  },
  {
   "cell_type": "code",
   "execution_count": 34,
   "metadata": {},
   "outputs": [
    {
     "data": {
      "text/plain": [
       "142602"
      ]
     },
     "execution_count": 34,
     "metadata": {},
     "output_type": "execute_result"
    }
   ],
   "source": [
    "df['Wert in EUR'][0:40].sum()"
   ]
  },
  {
   "cell_type": "code",
   "execution_count": 35,
   "metadata": {},
   "outputs": [
    {
     "data": {
      "text/plain": [
       "143080"
      ]
     },
     "execution_count": 35,
     "metadata": {},
     "output_type": "execute_result"
    }
   ],
   "source": [
    "df['Wert in EUR'][40:80].sum()"
   ]
  },
  {
   "cell_type": "code",
   "execution_count": 36,
   "metadata": {},
   "outputs": [
    {
     "data": {
      "text/plain": [
       "1.0033519866481535"
      ]
     },
     "execution_count": 36,
     "metadata": {},
     "output_type": "execute_result"
    }
   ],
   "source": [
    "df['Wert in EUR'][40:80].sum()/df['Wert in EUR'][0:40].sum()"
   ]
  },
  {
   "cell_type": "code",
   "execution_count": 12,
   "metadata": {},
   "outputs": [
    {
     "data": {
      "text/plain": [
       "Int64Index([0, 111, 207, 274, 428, 495, 594, 732, 827, 924, 1113, 1232], dtype='int64')"
      ]
     },
     "execution_count": 12,
     "metadata": {},
     "output_type": "execute_result"
    }
   ],
   "source": [
    "df_index_teilsummen.index"
   ]
  },
  {
   "cell_type": "code",
   "execution_count": 13,
   "metadata": {},
   "outputs": [
    {
     "ename": "NameError",
     "evalue": "name 'df_tmp1' is not defined",
     "output_type": "error",
     "traceback": [
      "\u001b[0;31m---------------------------------------------------------------------------\u001b[0m",
      "\u001b[0;31mNameError\u001b[0m                                 Traceback (most recent call last)",
      "\u001b[0;32m<ipython-input-13-33cbb7f6cf35>\u001b[0m in \u001b[0;36m<module>\u001b[0;34m\u001b[0m\n\u001b[1;32m      1\u001b[0m \u001b[0mindex\u001b[0m \u001b[0;34m=\u001b[0m \u001b[0;36m0\u001b[0m\u001b[0;34m\u001b[0m\u001b[0;34m\u001b[0m\u001b[0m\n\u001b[0;32m----> 2\u001b[0;31m \u001b[0;32mfor\u001b[0m \u001b[0mitem\u001b[0m \u001b[0;32min\u001b[0m \u001b[0mdf_tmp1\u001b[0m\u001b[0;34m.\u001b[0m\u001b[0mindex\u001b[0m\u001b[0;34m:\u001b[0m\u001b[0;34m\u001b[0m\u001b[0;34m\u001b[0m\u001b[0m\n\u001b[0m\u001b[1;32m      3\u001b[0m     \u001b[0mprint\u001b[0m\u001b[0;34m(\u001b[0m\u001b[0mdf\u001b[0m\u001b[0;34m[\u001b[0m\u001b[0;34m'Wert in EUR'\u001b[0m\u001b[0;34m]\u001b[0m\u001b[0;34m[\u001b[0m\u001b[0mitem\u001b[0m\u001b[0;34m:\u001b[0m\u001b[0mdf_tmp1\u001b[0m\u001b[0;34m.\u001b[0m\u001b[0mindex\u001b[0m\u001b[0;34m[\u001b[0m\u001b[0mindex\u001b[0m \u001b[0;34m+\u001b[0m \u001b[0;36m1\u001b[0m\u001b[0;34m]\u001b[0m\u001b[0;34m]\u001b[0m\u001b[0;34m.\u001b[0m\u001b[0msum\u001b[0m\u001b[0;34m(\u001b[0m\u001b[0;34m)\u001b[0m\u001b[0;34m)\u001b[0m\u001b[0;34m\u001b[0m\u001b[0;34m\u001b[0m\u001b[0m\n\u001b[1;32m      4\u001b[0m     \u001b[0mindex\u001b[0m \u001b[0;34m+=\u001b[0m \u001b[0;36m1\u001b[0m\u001b[0;34m\u001b[0m\u001b[0;34m\u001b[0m\u001b[0m\n\u001b[1;32m      5\u001b[0m     \u001b[0;32mif\u001b[0m \u001b[0mindex\u001b[0m \u001b[0;34m+\u001b[0m \u001b[0;36m1\u001b[0m \u001b[0;34m==\u001b[0m \u001b[0mlen\u001b[0m\u001b[0;34m(\u001b[0m\u001b[0mdf_tmp1\u001b[0m\u001b[0;34m)\u001b[0m\u001b[0;34m:\u001b[0m\u001b[0;34m\u001b[0m\u001b[0;34m\u001b[0m\u001b[0m\n",
      "\u001b[0;31mNameError\u001b[0m: name 'df_tmp1' is not defined"
     ]
    }
   ],
   "source": [
    "index = 0\n",
    "for item in df_tmp1.index:\n",
    "    print(df['Wert in EUR'][item:df_tmp1.index[index + 1]].sum())\n",
    "    index += 1\n",
    "    if index + 1 == len(df_tmp1):\n",
    "        break"
   ]
  },
  {
   "cell_type": "code",
   "execution_count": 56,
   "metadata": {},
   "outputs": [],
   "source": [
    "df_sume = []\n",
    "sume = 0"
   ]
  },
  {
   "cell_type": "code",
   "execution_count": 57,
   "metadata": {},
   "outputs": [],
   "source": [
    "#####    Muss eine Funktion sein, Berechnung der Teilsummen ####\n",
    "\n",
    "index = 0\n",
    "for item in df_tmp1.index:\n",
    "    sume = df['Wert in EUR'][item:df_tmp1.index[index + 1]].sum()\n",
    "    df_sume.append(sume)\n",
    "    index += 1\n",
    "    if index + 1 == len(df_tmp1):\n",
    "        break"
   ]
  },
  {
   "cell_type": "code",
   "execution_count": 16,
   "metadata": {},
   "outputs": [],
   "source": [
    "def teilsumme(data):\n",
    "    index = 0\n",
    "    sume = 0\n",
    "    df_sume = []\n",
    "    for item in data.index:\n",
    "        sume = df['Wert in EUR'][item:data.index[index + 1]].sum()\n",
    "        df_sume.append(sume)\n",
    "        index += 1\n",
    "        if index + 1 == len(data):\n",
    "            break\n",
    "    return df_sume"
   ]
  },
  {
   "cell_type": "code",
   "execution_count": 19,
   "metadata": {},
   "outputs": [
    {
     "data": {
      "text/plain": [
       "[246766,\n",
       " 237375,\n",
       " 212067,\n",
       " 276776,\n",
       " 213065,\n",
       " 237215,\n",
       " 269083,\n",
       " 229450,\n",
       " 225758,\n",
       " 289556,\n",
       " 249787]"
      ]
     },
     "execution_count": 19,
     "metadata": {},
     "output_type": "execute_result"
    }
   ],
   "source": [
    "teilsumme(index_teilsummen(df))"
   ]
  },
  {
   "cell_type": "code",
   "execution_count": 21,
   "metadata": {},
   "outputs": [],
   "source": [
    "import matplotlib.pyplot as plt"
   ]
  },
  {
   "cell_type": "code",
   "execution_count": 22,
   "metadata": {},
   "outputs": [
    {
     "data": {
      "image/png": "[encoded data removed]",
      "text/plain": [
       "<Figure size 432x288 with 1 Axes>"
      ]
     },
     "metadata": {
      "needs_background": "light"
     },
     "output_type": "display_data"
    }
   ],
   "source": [
    "plt.plot(teilsumme(index_teilsummen(df)))\n",
    "plt.show()"
   ]
  },
  {
   "cell_type": "code",
   "execution_count": null,
   "metadata": {},
   "outputs": [],
   "source": []
  }
 ],
 "metadata": {
  "kernelspec": {
   "display_name": "Python 3",
   "language": "python",
   "name": "python3"
  },
  "language_info": {
   "codemirror_mode": {
    "name": "ipython",
    "version": 3
   },
   "file_extension": ".py",
   "mimetype": "text/x-python",
   "name": "python",
   "nbconvert_exporter": "python",
   "pygments_lexer": "ipython3",
   "version": "3.8.8"
  }
 },
 "nbformat": 4,
 "nbformat_minor": 2
}
